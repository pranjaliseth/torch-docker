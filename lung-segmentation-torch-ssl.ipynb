{
 "cells": [
  {
   "cell_type": "markdown",
   "metadata": {},
   "source": [
    "# Data"
   ]
  },
  {
   "cell_type": "code",
   "execution_count": 2,
   "metadata": {},
   "outputs": [],
   "source": [
    "import copy\n",
    "import random\n",
    "from functools import wraps, partial\n",
    "\n",
    "import torch\n",
    "from torch import nn\n",
    "import torch.nn.functional as F\n",
    "\n",
    "from torchvision import transforms as T\n",
    "\n",
    "# helper functions\n",
    "\n",
    "def exists(val):\n",
    "    return val is not None\n",
    "\n",
    "def default(val, default):\n",
    "    return val if exists(val) else default\n",
    "\n",
    "def singleton(cache_key):\n",
    "    def inner_fn(fn):\n",
    "        @wraps(fn)\n",
    "        def wrapper(self, *args, **kwargs):\n",
    "            instance = getattr(self, cache_key)\n",
    "            if instance is not None:\n",
    "                return instance\n",
    "\n",
    "            instance = fn(self, *args, **kwargs)\n",
    "            setattr(self, cache_key, instance)\n",
    "            return instance\n",
    "        return wrapper\n",
    "    return inner_fn\n",
    "\n",
    "def get_module_device(module):\n",
    "    return next(module.parameters()).device\n",
    "\n",
    "def set_requires_grad(model, val):\n",
    "    for p in model.parameters():\n",
    "        p.requires_grad = val\n",
    "\n",
    "# loss function # (algorithm 1 in the paper)\n",
    "\n",
    "def loss_fn(\n",
    "    teacher_logits,\n",
    "    student_logits,\n",
    "    teacher_temp,\n",
    "    student_temp,\n",
    "    centers,\n",
    "    eps = 1e-20\n",
    "):\n",
    "    teacher_logits = teacher_logits.detach()\n",
    "    student_probs = (student_logits / student_temp).softmax(dim = -1)\n",
    "    teacher_probs = ((teacher_logits - centers) / teacher_temp).softmax(dim = -1)\n",
    "    return - (teacher_probs * torch.log(student_probs + eps)).sum(dim = -1).mean()\n",
    "\n",
    "# augmentation utils\n",
    "\n",
    "class RandomApply(nn.Module):\n",
    "    def __init__(self, fn, p):\n",
    "        super().__init__()\n",
    "        self.fn = fn\n",
    "        self.p = p\n",
    "\n",
    "    def forward(self, x):\n",
    "        if random.random() > self.p:\n",
    "            return x\n",
    "        return self.fn(x)\n",
    "\n",
    "# exponential moving average\n",
    "\n",
    "class EMA():\n",
    "    def __init__(self, beta):\n",
    "        super().__init__()\n",
    "        self.beta = beta\n",
    "\n",
    "    def update_average(self, old, new):\n",
    "        if old is None:\n",
    "            return new\n",
    "        return old * self.beta + (1 - self.beta) * new\n",
    "\n",
    "def update_moving_average(ema_updater, ma_model, current_model):\n",
    "    for current_params, ma_params in zip(current_model.parameters(), ma_model.parameters()):\n",
    "        old_weight, up_weight = ma_params.data, current_params.data\n",
    "        ma_params.data = ema_updater.update_average(old_weight, up_weight)\n",
    "\n",
    "# MLP class for projector and predictor\n",
    "\n",
    "class L2Norm(nn.Module):\n",
    "    def forward(self, x, eps = 1e-6):\n",
    "        norm = x.norm(dim = 1, keepdim = True).clamp(min = eps)\n",
    "        return x / norm\n",
    "\n",
    "class MLP(nn.Module):\n",
    "    def __init__(self, dim, dim_out, num_layers, hidden_size = 256):\n",
    "        super().__init__()\n",
    "\n",
    "        layers = []\n",
    "        dims = (dim, *((hidden_size,) * (num_layers - 1)))\n",
    "\n",
    "        for ind, (layer_dim_in, layer_dim_out) in enumerate(zip(dims[:-1], dims[1:])):\n",
    "            is_last = ind == (len(dims) - 1)\n",
    "\n",
    "            layers.extend([\n",
    "                nn.Linear(layer_dim_in, layer_dim_out),\n",
    "                nn.GELU() if not is_last else nn.Identity()\n",
    "            ])\n",
    "\n",
    "        self.net = nn.Sequential(\n",
    "            *layers,\n",
    "            L2Norm(),\n",
    "            nn.Linear(hidden_size, dim_out)\n",
    "        )\n",
    "\n",
    "    def forward(self, x):\n",
    "        return self.net(x)\n",
    "\n",
    "# a wrapper class for the base neural network\n",
    "# will manage the interception of the hidden layer output\n",
    "# and pipe it into the projecter and predictor nets\n",
    "\n",
    "class NetWrapper(nn.Module):\n",
    "    def __init__(self, net, output_dim, projection_hidden_size, projection_num_layers, layer = -2):\n",
    "        super().__init__()\n",
    "        self.net = net\n",
    "        self.layer = layer\n",
    "\n",
    "        self.projector = None\n",
    "        self.projection_hidden_size = projection_hidden_size\n",
    "        self.projection_num_layers = projection_num_layers\n",
    "        self.output_dim = output_dim\n",
    "\n",
    "        self.hidden = {}\n",
    "        self.hook_registered = False\n",
    "\n",
    "    def _find_layer(self):\n",
    "        if type(self.layer) == str:\n",
    "            modules = dict([*self.net.named_modules()])\n",
    "            return modules.get(self.layer, None)\n",
    "        elif type(self.layer) == int:\n",
    "            children = [*self.net.children()]\n",
    "            return children[self.layer]\n",
    "        return None\n",
    "\n",
    "    def _hook(self, _, input, output):\n",
    "        device = input[0].device\n",
    "        self.hidden[device] = output.flatten(1)\n",
    "\n",
    "    def _register_hook(self):\n",
    "        layer = self._find_layer()\n",
    "        assert layer is not None, f'hidden layer ({self.layer}) not found'\n",
    "        handle = layer.register_forward_hook(self._hook)\n",
    "        self.hook_registered = True\n",
    "\n",
    "    @singleton('projector')\n",
    "    def _get_projector(self, hidden):\n",
    "        _, dim = hidden.shape\n",
    "        projector = MLP(dim, self.output_dim, self.projection_num_layers, self.projection_hidden_size)\n",
    "        return projector.to(hidden)\n",
    "\n",
    "    def get_embedding(self, x):\n",
    "        if self.layer == -1:\n",
    "            return self.net(x)\n",
    "\n",
    "        if not self.hook_registered:\n",
    "            self._register_hook()\n",
    "\n",
    "        self.hidden.clear()\n",
    "        _ = self.net(x)\n",
    "        hidden = self.hidden[x.device]\n",
    "        self.hidden.clear()\n",
    "\n",
    "        assert hidden is not None, f'hidden layer {self.layer} never emitted an output'\n",
    "        return hidden\n",
    "\n",
    "    def forward(self, x, return_projection = True):\n",
    "        embed = self.get_embedding(x)\n",
    "        if not return_projection:\n",
    "            return embed\n",
    "\n",
    "        projector = self._get_projector(embed)\n",
    "        return projector(embed), embed\n",
    "\n",
    "# main class\n",
    "\n",
    "class Dino(nn.Module):\n",
    "    def __init__(\n",
    "        self,\n",
    "        net,\n",
    "        image_size,\n",
    "        hidden_layer = -2,\n",
    "        projection_hidden_size = 256,\n",
    "        num_classes_K = 65336,\n",
    "        projection_layers = 4,\n",
    "        student_temp = 0.9,\n",
    "        teacher_temp = 0.04,\n",
    "        local_upper_crop_scale = 0.4,\n",
    "        global_lower_crop_scale = 0.5,\n",
    "        moving_average_decay = 0.9,\n",
    "        center_moving_average_decay = 0.9,\n",
    "        augment_fn = None,\n",
    "        augment_fn2 = None\n",
    "    ):\n",
    "        super().__init__()\n",
    "        self.net = net\n",
    "\n",
    "        # default BYOL augmentation\n",
    "\n",
    "        DEFAULT_AUG = torch.nn.Sequential(\n",
    "            RandomApply(\n",
    "                T.ColorJitter(0.8, 0.8, 0.8, 0.2),\n",
    "                p = 0.3\n",
    "            ),\n",
    "            T.RandomGrayscale(p=0.2),\n",
    "            T.RandomHorizontalFlip(),\n",
    "            RandomApply(\n",
    "                T.GaussianBlur((3, 3), (1.0, 2.0)),\n",
    "                p = 0.2\n",
    "            ),\n",
    "            T.Normalize(\n",
    "                mean=torch.tensor([0.485, 0.456, 0.406]),\n",
    "                std=torch.tensor([0.229, 0.224, 0.225])),\n",
    "        )\n",
    "\n",
    "        self.augment1 = default(augment_fn, DEFAULT_AUG)\n",
    "        self.augment2 = default(augment_fn2, DEFAULT_AUG)\n",
    "\n",
    "        # local and global crops\n",
    "\n",
    "        self.local_crop = T.RandomResizedCrop((image_size, image_size), scale = (0.05, local_upper_crop_scale))\n",
    "        self.global_crop = T.RandomResizedCrop((image_size, image_size), scale = (global_lower_crop_scale, 1.))\n",
    "\n",
    "        self.student_encoder = NetWrapper(net, num_classes_K, projection_hidden_size, projection_layers, layer = hidden_layer)\n",
    "\n",
    "        self.teacher_encoder = None\n",
    "        self.teacher_ema_updater = EMA(moving_average_decay)\n",
    "\n",
    "        self.register_buffer('teacher_centers', torch.zeros(1, num_classes_K))\n",
    "        self.register_buffer('last_teacher_centers',  torch.zeros(1, num_classes_K))\n",
    "\n",
    "        self.teacher_centering_ema_updater = EMA(center_moving_average_decay)\n",
    "\n",
    "        self.student_temp = student_temp\n",
    "        self.teacher_temp = teacher_temp\n",
    "\n",
    "        # get device of network and make wrapper same device\n",
    "        device = get_module_device(net)\n",
    "        self.to(device)\n",
    "\n",
    "        # send a mock image tensor to instantiate singleton parameters\n",
    "        self.forward(torch.randn(2, 3, image_size, image_size, device=device))\n",
    "\n",
    "    @singleton('teacher_encoder')\n",
    "    def _get_teacher_encoder(self):\n",
    "        teacher_encoder = copy.deepcopy(self.student_encoder)\n",
    "        set_requires_grad(teacher_encoder, False)\n",
    "        return teacher_encoder\n",
    "\n",
    "    def reset_moving_average(self):\n",
    "        del self.teacher_encoder\n",
    "        self.teacher_encoder = None\n",
    "\n",
    "    def update_moving_average(self):\n",
    "        assert self.teacher_encoder is not None, 'target encoder has not been created yet'\n",
    "        update_moving_average(self.teacher_ema_updater, self.teacher_encoder, self.student_encoder)\n",
    "\n",
    "        new_teacher_centers = self.teacher_centering_ema_updater.update_average(self.teacher_centers, self.last_teacher_centers)\n",
    "        self.teacher_centers.copy_(new_teacher_centers)\n",
    "\n",
    "    def forward(\n",
    "        self,\n",
    "        x,\n",
    "        return_embedding = False,\n",
    "        return_projection = True,\n",
    "        student_temp = None,\n",
    "        teacher_temp = None\n",
    "    ):\n",
    "        if return_embedding:\n",
    "            return self.student_encoder(x, return_projection = return_projection)\n",
    "\n",
    "        image_one, image_two = self.augment1(x), self.augment2(x)\n",
    "\n",
    "        local_image_one, local_image_two   = self.local_crop(image_one),  self.local_crop(image_two)\n",
    "        global_image_one, global_image_two = self.global_crop(image_one), self.global_crop(image_two)\n",
    "\n",
    "        student_proj_one, _ = self.student_encoder(local_image_one)\n",
    "        student_proj_two, _ = self.student_encoder(local_image_two)\n",
    "\n",
    "        with torch.no_grad():\n",
    "            teacher_encoder = self._get_teacher_encoder()\n",
    "            teacher_proj_one, _ = teacher_encoder(global_image_one)\n",
    "            teacher_proj_two, _ = teacher_encoder(global_image_two)\n",
    "\n",
    "        loss_fn_ = partial(\n",
    "            loss_fn,\n",
    "            student_temp = default(student_temp, self.student_temp),\n",
    "            teacher_temp = default(teacher_temp, self.teacher_temp),\n",
    "            centers = self.teacher_centers\n",
    "        )\n",
    "\n",
    "        teacher_logits_avg = torch.cat((teacher_proj_one, teacher_proj_two)).mean(dim = 0)\n",
    "        self.last_teacher_centers.copy_(teacher_logits_avg)\n",
    "\n",
    "        loss = (loss_fn_(teacher_proj_one, student_proj_two) + loss_fn_(teacher_proj_two, student_proj_one)) / 2\n",
    "        return loss\n"
   ]
  },
  {
   "cell_type": "code",
   "execution_count": 3,
   "metadata": {
    "_cell_guid": "b1076dfc-b9ad-4769-8c92-a6c4dae69d19",
    "_uuid": "8f2839f25d086af736a60e9eeb907d3b93b6e0e5"
   },
   "outputs": [
    {
     "name": "stderr",
     "output_type": "stream",
     "text": [
      "INFO:albumentations.check_version:A new version of Albumentations is available: 1.4.13 (you have 1.4.11). Upgrade using: pip install --upgrade albumentations\n"
     ]
    }
   ],
   "source": [
    "import segmentation_models_pytorch as smp\n",
    "import numpy as np\n",
    "import cv2\n",
    "import matplotlib.pyplot as plt\n",
    "from PIL import Image\n",
    "import os\n",
    "from glob import glob\n",
    "from tqdm import tqdm\n",
    "from torchvision import transforms\n",
    "import torch\n",
    "import torchvision\n",
    "from torch.utils.data import Dataset, DataLoader\n",
    "from sklearn.model_selection import train_test_split\n",
    "import albumentations as A\n",
    "from albumentations.pytorch import ToTensorV2\n",
    "import time\n",
    "import sys\n",
    "from operator import add\n",
    "import random\n",
    "%matplotlib inline"
   ]
  },
  {
   "cell_type": "code",
   "execution_count": 4,
   "metadata": {},
   "outputs": [],
   "source": [
    "DEFAULT_RANDOM_SEED = 2021\n",
    "\n",
    "def seedBasic(seed=DEFAULT_RANDOM_SEED):\n",
    "    random.seed(seed)\n",
    "    os.environ['PYTHONHASHSEED'] = str(seed)\n",
    "    np.random.seed(seed)\n",
    "    \n",
    "def seedTorch(seed=DEFAULT_RANDOM_SEED):\n",
    "    torch.manual_seed(seed)\n",
    "    torch.cuda.manual_seed(seed)\n",
    "    torch.backends.cudnn.deterministic = True\n",
    "    torch.backends.cudnn.benchmark = False\n",
    "      \n",
    "# basic + torch \n",
    "def seedEverything(seed=DEFAULT_RANDOM_SEED):\n",
    "    seedBasic(seed)\n",
    "    seedTorch(seed)\n",
    "    print('seed set to:',seed)"
   ]
  },
  {
   "cell_type": "code",
   "execution_count": 5,
   "metadata": {},
   "outputs": [
    {
     "name": "stdout",
     "output_type": "stream",
     "text": [
      "seed set to: 2021\n"
     ]
    }
   ],
   "source": [
    "seedEverything(DEFAULT_RANDOM_SEED)"
   ]
  },
  {
   "cell_type": "code",
   "execution_count": 6,
   "metadata": {},
   "outputs": [],
   "source": [
    "path = '/scratch/ps4364/ssl_med_seg/archive/Lung Segmentation/'\n",
    "# image_path_test = '../input/chest-xray-masks-and-labels/Lung Segmentation/test/' "
   ]
  },
  {
   "cell_type": "code",
   "execution_count": 7,
   "metadata": {},
   "outputs": [],
   "source": [
    "images = os.listdir(path+'CXR_png/')\n",
    "mask = os.listdir(path+'masks/')\n",
    "mask = [fName.split(\".png\")[0] for fName in mask]\n",
    "image_file_name = [fName.split(\"_mask\")[0] for fName in mask]\n",
    "\n",
    "check = [i for i in mask if \"mask\" in i]"
   ]
  },
  {
   "cell_type": "code",
   "execution_count": 8,
   "metadata": {},
   "outputs": [],
   "source": [
    "testing_files = set(os.listdir(path+'CXR_png/')) & set(os.listdir(path+'masks/'))\n",
    "training_files = check"
   ]
  },
  {
   "cell_type": "code",
   "execution_count": 9,
   "metadata": {},
   "outputs": [],
   "source": [
    "class SegmentationDS(Dataset):\n",
    "    \"\"\" create dataset by using image path and their labels \"\"\"\n",
    "    def __init__ (self, path, files, flag = \"MONT\", transform = (None, None)):\n",
    "        self.path = path\n",
    "        self.files = files\n",
    "        self.flag = flag\n",
    "        self.transform = transform\n",
    "\n",
    "        \n",
    "    def __len__(self):\n",
    "        return len (self.files)\n",
    "\n",
    "    def __getitem__(self, index):\n",
    "        \n",
    "        f = sorted(list(self.files))\n",
    "        if self.flag == \"MONT\":    \n",
    "            image = Image.open(os.path.join(self.path, \"CXR_png\", f[index])).convert('L')\n",
    "            mask = Image.open(os.path.join(self.path, \"masks\", f[index])).convert('L')\n",
    "\n",
    "        elif self.flag == \"SHEN\":\n",
    "            image = Image.open(os.path.join(self.path, \"CXR_png\", f[index].split(\"_mask\")[0] + \".png\")).convert('L')\n",
    "            mask = Image.open(os.path.join(self.path, \"masks\", f[index] + \".png\")).convert('L')\n",
    "\n",
    "\n",
    "        if self.transform != (None, None):\n",
    "            image = self.transform[0](image)\n",
    "            mask = self.transform[1](mask)\n",
    "            \n",
    "        return image, mask\n"
   ]
  },
  {
   "cell_type": "code",
   "execution_count": 10,
   "metadata": {},
   "outputs": [],
   "source": [
    "mean0_1, std0_1 = [0.0, 0.0, 0.0], [1.0, 1.0, 1.0]\n",
    "\n",
    "mean_imgnet, std_imgnet = [0.485, 0.456, 0.406], [0.229, 0.224, 0.225]\n",
    "\n",
    "mean1_1gray, std1_1gray = [0.5, ], [0.5, ]\n",
    "\n",
    "dim = 256"
   ]
  },
  {
   "cell_type": "code",
   "execution_count": 11,
   "metadata": {},
   "outputs": [],
   "source": [
    "image_tfms = transforms.Compose([\n",
    "    transforms.Resize((dim, dim)),\n",
    "    transforms.ToTensor(),\n",
    "    transforms.Normalize(mean = mean1_1gray, \n",
    "                         std = std1_1gray)\n",
    "])\n",
    "\n",
    "mask_tfms = transforms.Compose([\n",
    "    transforms.Resize((dim, dim)),\n",
    "    transforms.ToTensor()\n",
    "])"
   ]
  },
  {
   "cell_type": "code",
   "execution_count": 12,
   "metadata": {},
   "outputs": [],
   "source": [
    "Mont_ds = SegmentationDS(path, testing_files, flag = \"MONT\", transform = (image_tfms, mask_tfms))\n",
    "Shen_ds = SegmentationDS(path, training_files, flag = \"SHEN\", transform = (image_tfms, mask_tfms))"
   ]
  },
  {
   "cell_type": "code",
   "execution_count": 13,
   "metadata": {},
   "outputs": [
    {
     "data": {
      "text/plain": [
       "(138, 566)"
      ]
     },
     "execution_count": 13,
     "metadata": {},
     "output_type": "execute_result"
    }
   ],
   "source": [
    "len(Mont_ds), len(Shen_ds)"
   ]
  },
  {
   "cell_type": "code",
   "execution_count": 14,
   "metadata": {},
   "outputs": [],
   "source": [
    "def imshow (img, mean_set, std_set):\n",
    "    \"\"\" visualize torch tensor image \"\"\"\n",
    "    \n",
    "    if img.shape[0] == 3:\n",
    "        img = img.numpy ().transpose (1, 2, 0)\n",
    "        mean = mean_set\n",
    "        std = std_set\n",
    "        img = img * std + mean\n",
    "        img = np.clip (img, 0, 1)\n",
    "        plt.figure (figsize = (5, 5))\n",
    "        plt.imshow (img)\n",
    "        \n",
    "    elif img.shape[0] == 1:\n",
    "        img = img.numpy ().transpose (1, 2, 0)\n",
    "        mean = mean_set\n",
    "        std = std_set\n",
    "        img = img * std + mean\n",
    "        img = np.clip (img, 0, 1)\n",
    "    \n",
    "        plt.figure (figsize = (5, 5))\n",
    "        plt.imshow (img,cmap='gray')"
   ]
  },
  {
   "cell_type": "code",
   "execution_count": 15,
   "metadata": {},
   "outputs": [
    {
     "name": "stdout",
     "output_type": "stream",
     "text": [
      "torch.Size([1, 256, 256])\n",
      "torch.Size([1, 256, 256])\n",
      "tensor(-1.) tensor(1.)\n",
      "tensor(0.) tensor(1.)\n"
     ]
    },
    {
     "data": {
      "image/png": "[encoded data removed]",
      "text/plain": [
       "<Figure size 500x500 with 1 Axes>"
      ]
     },
     "metadata": {},
     "output_type": "display_data"
    },
    {
     "data": {
      "image/png": "[encoded data removed]",
      "text/plain": [
       "<Figure size 500x500 with 1 Axes>"
      ]
     },
     "metadata": {},
     "output_type": "display_data"
    }
   ],
   "source": [
    "idx = np.random.choice (len (Mont_ds))\n",
    "img, lbl = Mont_ds [idx]\n",
    "print (img.shape)\n",
    "print (lbl.shape)\n",
    "print(img.min(), img.max())\n",
    "print(lbl.min(), lbl.max())\n",
    "imshow(img, mean1_1gray, std1_1gray)\n",
    "imshow(lbl, mean1_1gray, std1_1gray)"
   ]
  },
  {
   "cell_type": "code",
   "execution_count": 16,
   "metadata": {},
   "outputs": [
    {
     "data": {
      "text/plain": [
       "566"
      ]
     },
     "execution_count": 16,
     "metadata": {},
     "output_type": "execute_result"
    }
   ],
   "source": [
    "train_ds = torch.utils.data.ConcatDataset([Shen_ds])\n",
    "\n",
    "len(train_ds)"
   ]
  },
  {
   "cell_type": "code",
   "execution_count": 17,
   "metadata": {},
   "outputs": [
    {
     "name": "stdout",
     "output_type": "stream",
     "text": [
      "452 114\n"
     ]
    }
   ],
   "source": [
    "train_size = int(0.80 * len(train_ds))\n",
    "valid_size = len(train_ds) - train_size\n",
    "train_ds, valid_ds = torch.utils.data.random_split(train_ds, [train_size, valid_size])\n",
    "\n",
    "print(len(train_ds), len(valid_ds))"
   ]
  },
  {
   "cell_type": "code",
   "execution_count": 18,
   "metadata": {},
   "outputs": [],
   "source": [
    "train_dl = DataLoader (train_ds, batch_size = 8, shuffle = True)\n",
    "valid_dl = DataLoader (valid_ds, batch_size = 8, shuffle = True)"
   ]
  },
  {
   "cell_type": "markdown",
   "metadata": {},
   "source": [
    "# Loss Function"
   ]
  },
  {
   "cell_type": "code",
   "execution_count": 19,
   "metadata": {},
   "outputs": [],
   "source": [
    "import torch.nn as nn\n",
    "import torch.nn.functional as F"
   ]
  },
  {
   "cell_type": "code",
   "execution_count": 20,
   "metadata": {},
   "outputs": [],
   "source": [
    "class DiceLoss(nn.Module):\n",
    "    def __init__(self, weight=None, size_average=True):\n",
    "        super(DiceLoss, self).__init__()\n",
    "\n",
    "    def forward(self, inputs, targets, smooth=1):\n",
    "\n",
    "        #comment out if your model contains a sigmoid or equivalent activation layer\n",
    "        inputs = torch.sigmoid(inputs)\n",
    "\n",
    "        #flatten label and prediction tensors\n",
    "        inputs = inputs.view(-1)\n",
    "        targets = targets.view(-1)\n",
    "\n",
    "        intersection = (inputs * targets).sum()\n",
    "        dice = (2.*intersection + smooth)/(inputs.sum() + targets.sum() + smooth)\n",
    "\n",
    "        return 1 - dice\n",
    "\n",
    "class DiceBCELoss(nn.Module):\n",
    "    def __init__(self, weight=None, size_average=True):\n",
    "        super(DiceBCELoss, self).__init__()\n",
    "\n",
    "    def forward(self, inputs, targets, smooth=1):\n",
    "\n",
    "        #comment out if your model contains a sigmoid or equivalent activation layer\n",
    "        inputs = torch.sigmoid(inputs)\n",
    "\n",
    "        #flatten label and prediction tensors\n",
    "        inputs = inputs.view(-1)\n",
    "        targets = targets.view(-1)\n",
    "\n",
    "        intersection = (inputs * targets).sum()\n",
    "        dice_loss = 1 - (2.*intersection + smooth)/(inputs.sum() + targets.sum() + smooth)\n",
    "        BCE = F.binary_cross_entropy(inputs, targets, reduction='mean')\n",
    "        Dice_BCE = BCE + dice_loss\n",
    "\n",
    "        return Dice_BCE"
   ]
  },
  {
   "cell_type": "markdown",
   "metadata": {},
   "source": [
    "# Metrics"
   ]
  },
  {
   "cell_type": "code",
   "execution_count": 21,
   "metadata": {},
   "outputs": [],
   "source": [
    "from sklearn.metrics import accuracy_score, f1_score, jaccard_score, precision_score, recall_score"
   ]
  },
  {
   "cell_type": "code",
   "execution_count": 22,
   "metadata": {},
   "outputs": [],
   "source": [
    "def calculate_metrics(y_pred, y_true):\n",
    "    \"\"\" Ground truth \"\"\"\n",
    "    y_true = y_true.cpu().numpy()\n",
    "    y_true = y_true > 0.5\n",
    "    y_true = y_true.astype(np.uint8)\n",
    "    y_true = y_true.reshape(-1)\n",
    "\n",
    "    \"\"\" Prediction \"\"\"\n",
    "    y_pred = y_pred.cpu().detach().numpy()\n",
    "    y_pred = y_pred > 0.5\n",
    "    y_pred = y_pred.astype(np.uint8)\n",
    "    y_pred = y_pred.reshape(-1)\n",
    "\n",
    "    score_jaccard = jaccard_score(y_true, y_pred)\n",
    "#     score_f1 = f1_score(y_true, y_pred)\n",
    "#     score_recall = recall_score(y_true, y_pred)\n",
    "#     score_precision = precision_score(y_true, y_pred)\n",
    "    score_acc = accuracy_score(y_true, y_pred)\n",
    "\n",
    "    return [score_jaccard, score_acc]"
   ]
  },
  {
   "cell_type": "markdown",
   "metadata": {},
   "source": [
    "# Model"
   ]
  },
  {
   "cell_type": "code",
   "execution_count": 23,
   "metadata": {},
   "outputs": [],
   "source": [
    "for x,y in train_dl:\n",
    "    break"
   ]
  },
  {
   "cell_type": "code",
   "execution_count": null,
   "metadata": {},
   "outputs": [],
   "source": []
  },
  {
   "cell_type": "code",
   "execution_count": 24,
   "metadata": {},
   "outputs": [
    {
     "name": "stdout",
     "output_type": "stream",
     "text": [
      "cuda\n"
     ]
    }
   ],
   "source": [
    "device = torch.device('cuda' if torch.cuda.is_available() else 'cpu')\n",
    "print(device)"
   ]
  },
  {
   "cell_type": "code",
   "execution_count": 25,
   "metadata": {},
   "outputs": [],
   "source": [
    "model = smp.Unet(\n",
    "    encoder_name=\"resnet34\",        # choose encoder, e.g. mobilenet_v2 or efficientnet-b7\n",
    "    encoder_weights=\"imagenet\",     # use `imagenet` pre-trained weights for encoder initialization\n",
    "    in_channels=3,                  # model input channels (1 for gray-scale images, 3 for RGB, etc.)\n",
    "    classes=1,                      # model output channels (number of classes in your dataset)\n",
    ")\n",
    "\n",
    "\n",
    "#Unet_Builder(input_channel=1, output_channel=1)\n",
    "# model.eval()"
   ]
  },
  {
   "cell_type": "code",
   "execution_count": 26,
   "metadata": {},
   "outputs": [
    {
     "data": {
      "text/plain": [
       "ResNetEncoder(\n",
       "  (conv1): Conv2d(3, 64, kernel_size=(7, 7), stride=(2, 2), padding=(3, 3), bias=False)\n",
       "  (bn1): BatchNorm2d(64, eps=1e-05, momentum=0.1, affine=True, track_running_stats=True)\n",
       "  (relu): ReLU(inplace=True)\n",
       "  (maxpool): MaxPool2d(kernel_size=3, stride=2, padding=1, dilation=1, ceil_mode=False)\n",
       "  (layer1): Sequential(\n",
       "    (0): BasicBlock(\n",
       "      (conv1): Conv2d(64, 64, kernel_size=(3, 3), stride=(1, 1), padding=(1, 1), bias=False)\n",
       "      (bn1): BatchNorm2d(64, eps=1e-05, momentum=0.1, affine=True, track_running_stats=True)\n",
       "      (relu): ReLU(inplace=True)\n",
       "      (conv2): Conv2d(64, 64, kernel_size=(3, 3), stride=(1, 1), padding=(1, 1), bias=False)\n",
       "      (bn2): BatchNorm2d(64, eps=1e-05, momentum=0.1, affine=True, track_running_stats=True)\n",
       "    )\n",
       "    (1): BasicBlock(\n",
       "      (conv1): Conv2d(64, 64, kernel_size=(3, 3), stride=(1, 1), padding=(1, 1), bias=False)\n",
       "      (bn1): BatchNorm2d(64, eps=1e-05, momentum=0.1, affine=True, track_running_stats=True)\n",
       "      (relu): ReLU(inplace=True)\n",
       "      (conv2): Conv2d(64, 64, kernel_size=(3, 3), stride=(1, 1), padding=(1, 1), bias=False)\n",
       "      (bn2): BatchNorm2d(64, eps=1e-05, momentum=0.1, affine=True, track_running_stats=True)\n",
       "    )\n",
       "    (2): BasicBlock(\n",
       "      (conv1): Conv2d(64, 64, kernel_size=(3, 3), stride=(1, 1), padding=(1, 1), bias=False)\n",
       "      (bn1): BatchNorm2d(64, eps=1e-05, momentum=0.1, affine=True, track_running_stats=True)\n",
       "      (relu): ReLU(inplace=True)\n",
       "      (conv2): Conv2d(64, 64, kernel_size=(3, 3), stride=(1, 1), padding=(1, 1), bias=False)\n",
       "      (bn2): BatchNorm2d(64, eps=1e-05, momentum=0.1, affine=True, track_running_stats=True)\n",
       "    )\n",
       "  )\n",
       "  (layer2): Sequential(\n",
       "    (0): BasicBlock(\n",
       "      (conv1): Conv2d(64, 128, kernel_size=(3, 3), stride=(2, 2), padding=(1, 1), bias=False)\n",
       "      (bn1): BatchNorm2d(128, eps=1e-05, momentum=0.1, affine=True, track_running_stats=True)\n",
       "      (relu): ReLU(inplace=True)\n",
       "      (conv2): Conv2d(128, 128, kernel_size=(3, 3), stride=(1, 1), padding=(1, 1), bias=False)\n",
       "      (bn2): BatchNorm2d(128, eps=1e-05, momentum=0.1, affine=True, track_running_stats=True)\n",
       "      (downsample): Sequential(\n",
       "        (0): Conv2d(64, 128, kernel_size=(1, 1), stride=(2, 2), bias=False)\n",
       "        (1): BatchNorm2d(128, eps=1e-05, momentum=0.1, affine=True, track_running_stats=True)\n",
       "      )\n",
       "    )\n",
       "    (1): BasicBlock(\n",
       "      (conv1): Conv2d(128, 128, kernel_size=(3, 3), stride=(1, 1), padding=(1, 1), bias=False)\n",
       "      (bn1): BatchNorm2d(128, eps=1e-05, momentum=0.1, affine=True, track_running_stats=True)\n",
       "      (relu): ReLU(inplace=True)\n",
       "      (conv2): Conv2d(128, 128, kernel_size=(3, 3), stride=(1, 1), padding=(1, 1), bias=False)\n",
       "      (bn2): BatchNorm2d(128, eps=1e-05, momentum=0.1, affine=True, track_running_stats=True)\n",
       "    )\n",
       "    (2): BasicBlock(\n",
       "      (conv1): Conv2d(128, 128, kernel_size=(3, 3), stride=(1, 1), padding=(1, 1), bias=False)\n",
       "      (bn1): BatchNorm2d(128, eps=1e-05, momentum=0.1, affine=True, track_running_stats=True)\n",
       "      (relu): ReLU(inplace=True)\n",
       "      (conv2): Conv2d(128, 128, kernel_size=(3, 3), stride=(1, 1), padding=(1, 1), bias=False)\n",
       "      (bn2): BatchNorm2d(128, eps=1e-05, momentum=0.1, affine=True, track_running_stats=True)\n",
       "    )\n",
       "    (3): BasicBlock(\n",
       "      (conv1): Conv2d(128, 128, kernel_size=(3, 3), stride=(1, 1), padding=(1, 1), bias=False)\n",
       "      (bn1): BatchNorm2d(128, eps=1e-05, momentum=0.1, affine=True, track_running_stats=True)\n",
       "      (relu): ReLU(inplace=True)\n",
       "      (conv2): Conv2d(128, 128, kernel_size=(3, 3), stride=(1, 1), padding=(1, 1), bias=False)\n",
       "      (bn2): BatchNorm2d(128, eps=1e-05, momentum=0.1, affine=True, track_running_stats=True)\n",
       "    )\n",
       "  )\n",
       "  (layer3): Sequential(\n",
       "    (0): BasicBlock(\n",
       "      (conv1): Conv2d(128, 256, kernel_size=(3, 3), stride=(2, 2), padding=(1, 1), bias=False)\n",
       "      (bn1): BatchNorm2d(256, eps=1e-05, momentum=0.1, affine=True, track_running_stats=True)\n",
       "      (relu): ReLU(inplace=True)\n",
       "      (conv2): Conv2d(256, 256, kernel_size=(3, 3), stride=(1, 1), padding=(1, 1), bias=False)\n",
       "      (bn2): BatchNorm2d(256, eps=1e-05, momentum=0.1, affine=True, track_running_stats=True)\n",
       "      (downsample): Sequential(\n",
       "        (0): Conv2d(128, 256, kernel_size=(1, 1), stride=(2, 2), bias=False)\n",
       "        (1): BatchNorm2d(256, eps=1e-05, momentum=0.1, affine=True, track_running_stats=True)\n",
       "      )\n",
       "    )\n",
       "    (1): BasicBlock(\n",
       "      (conv1): Conv2d(256, 256, kernel_size=(3, 3), stride=(1, 1), padding=(1, 1), bias=False)\n",
       "      (bn1): BatchNorm2d(256, eps=1e-05, momentum=0.1, affine=True, track_running_stats=True)\n",
       "      (relu): ReLU(inplace=True)\n",
       "      (conv2): Conv2d(256, 256, kernel_size=(3, 3), stride=(1, 1), padding=(1, 1), bias=False)\n",
       "      (bn2): BatchNorm2d(256, eps=1e-05, momentum=0.1, affine=True, track_running_stats=True)\n",
       "    )\n",
       "    (2): BasicBlock(\n",
       "      (conv1): Conv2d(256, 256, kernel_size=(3, 3), stride=(1, 1), padding=(1, 1), bias=False)\n",
       "      (bn1): BatchNorm2d(256, eps=1e-05, momentum=0.1, affine=True, track_running_stats=True)\n",
       "      (relu): ReLU(inplace=True)\n",
       "      (conv2): Conv2d(256, 256, kernel_size=(3, 3), stride=(1, 1), padding=(1, 1), bias=False)\n",
       "      (bn2): BatchNorm2d(256, eps=1e-05, momentum=0.1, affine=True, track_running_stats=True)\n",
       "    )\n",
       "    (3): BasicBlock(\n",
       "      (conv1): Conv2d(256, 256, kernel_size=(3, 3), stride=(1, 1), padding=(1, 1), bias=False)\n",
       "      (bn1): BatchNorm2d(256, eps=1e-05, momentum=0.1, affine=True, track_running_stats=True)\n",
       "      (relu): ReLU(inplace=True)\n",
       "      (conv2): Conv2d(256, 256, kernel_size=(3, 3), stride=(1, 1), padding=(1, 1), bias=False)\n",
       "      (bn2): BatchNorm2d(256, eps=1e-05, momentum=0.1, affine=True, track_running_stats=True)\n",
       "    )\n",
       "    (4): BasicBlock(\n",
       "      (conv1): Conv2d(256, 256, kernel_size=(3, 3), stride=(1, 1), padding=(1, 1), bias=False)\n",
       "      (bn1): BatchNorm2d(256, eps=1e-05, momentum=0.1, affine=True, track_running_stats=True)\n",
       "      (relu): ReLU(inplace=True)\n",
       "      (conv2): Conv2d(256, 256, kernel_size=(3, 3), stride=(1, 1), padding=(1, 1), bias=False)\n",
       "      (bn2): BatchNorm2d(256, eps=1e-05, momentum=0.1, affine=True, track_running_stats=True)\n",
       "    )\n",
       "    (5): BasicBlock(\n",
       "      (conv1): Conv2d(256, 256, kernel_size=(3, 3), stride=(1, 1), padding=(1, 1), bias=False)\n",
       "      (bn1): BatchNorm2d(256, eps=1e-05, momentum=0.1, affine=True, track_running_stats=True)\n",
       "      (relu): ReLU(inplace=True)\n",
       "      (conv2): Conv2d(256, 256, kernel_size=(3, 3), stride=(1, 1), padding=(1, 1), bias=False)\n",
       "      (bn2): BatchNorm2d(256, eps=1e-05, momentum=0.1, affine=True, track_running_stats=True)\n",
       "    )\n",
       "  )\n",
       "  (layer4): Sequential(\n",
       "    (0): BasicBlock(\n",
       "      (conv1): Conv2d(256, 512, kernel_size=(3, 3), stride=(2, 2), padding=(1, 1), bias=False)\n",
       "      (bn1): BatchNorm2d(512, eps=1e-05, momentum=0.1, affine=True, track_running_stats=True)\n",
       "      (relu): ReLU(inplace=True)\n",
       "      (conv2): Conv2d(512, 512, kernel_size=(3, 3), stride=(1, 1), padding=(1, 1), bias=False)\n",
       "      (bn2): BatchNorm2d(512, eps=1e-05, momentum=0.1, affine=True, track_running_stats=True)\n",
       "      (downsample): Sequential(\n",
       "        (0): Conv2d(256, 512, kernel_size=(1, 1), stride=(2, 2), bias=False)\n",
       "        (1): BatchNorm2d(512, eps=1e-05, momentum=0.1, affine=True, track_running_stats=True)\n",
       "      )\n",
       "    )\n",
       "    (1): BasicBlock(\n",
       "      (conv1): Conv2d(512, 512, kernel_size=(3, 3), stride=(1, 1), padding=(1, 1), bias=False)\n",
       "      (bn1): BatchNorm2d(512, eps=1e-05, momentum=0.1, affine=True, track_running_stats=True)\n",
       "      (relu): ReLU(inplace=True)\n",
       "      (conv2): Conv2d(512, 512, kernel_size=(3, 3), stride=(1, 1), padding=(1, 1), bias=False)\n",
       "      (bn2): BatchNorm2d(512, eps=1e-05, momentum=0.1, affine=True, track_running_stats=True)\n",
       "    )\n",
       "    (2): BasicBlock(\n",
       "      (conv1): Conv2d(512, 512, kernel_size=(3, 3), stride=(1, 1), padding=(1, 1), bias=False)\n",
       "      (bn1): BatchNorm2d(512, eps=1e-05, momentum=0.1, affine=True, track_running_stats=True)\n",
       "      (relu): ReLU(inplace=True)\n",
       "      (conv2): Conv2d(512, 512, kernel_size=(3, 3), stride=(1, 1), padding=(1, 1), bias=False)\n",
       "      (bn2): BatchNorm2d(512, eps=1e-05, momentum=0.1, affine=True, track_running_stats=True)\n",
       "    )\n",
       "  )\n",
       ")"
      ]
     },
     "execution_count": 26,
     "metadata": {},
     "output_type": "execute_result"
    }
   ],
   "source": [
    "model.encoder"
   ]
  },
  {
   "cell_type": "code",
   "execution_count": 27,
   "metadata": {},
   "outputs": [],
   "source": [
    "learner = Dino(\n",
    "    model.encoder,\n",
    "    image_size = 256,\n",
    "    hidden_layer = 'layer4',        # hidden layer name or index, from which to extract the embedding\n",
    "    projection_hidden_size = 256,      # projector network hidden dimension\n",
    "    projection_layers = 4,             # number of layers in projection network\n",
    "    num_classes_K = 65336,             # output logits dimensions (referenced as K in paper)\n",
    "    student_temp = 0.9,                # student temperature\n",
    "    teacher_temp = 0.04,               # teacher temperature, needs to be annealed from 0.04 to 0.07 over 30 epochs\n",
    "    local_upper_crop_scale = 0.4,      # upper bound for local crop - 0.4 was recommended in the paper \n",
    "    global_lower_crop_scale = 0.5,     # lower bound for global crop - 0.5 was recommended in the paper\n",
    "    moving_average_decay = 0.9,        # moving average of encoder - paper showed anywhere from 0.9 to 0.999 was ok\n",
    "    center_moving_average_decay = 0.9, # moving average of teacher centers - paper showed anywhere from 0.9 to 0.999 was ok\n",
    ")"
   ]
  },
  {
   "cell_type": "code",
   "execution_count": 28,
   "metadata": {},
   "outputs": [],
   "source": [
    "def save_checkpoint (state, filename):\n",
    "    \"\"\" saving model's weights \"\"\"\n",
    "    print ('=> saving checkpoint')\n",
    "    torch.save (state, filename)\n"
   ]
  },
  {
   "cell_type": "code",
   "execution_count": 29,
   "metadata": {},
   "outputs": [],
   "source": [
    "def train(model, loader, optimizer, loss_fn, metric_fn, device,learner):\n",
    "    epoch_loss = 0.0\n",
    "    metrics_score = [0.0, 0.0, 0.0, 0.0, 0.0]\n",
    "    steps = len(loader)\n",
    "    model.train()\n",
    "    for i, (x, y) in enumerate (loader):\n",
    "        x = x.to(device, dtype=torch.float32)\n",
    "        y = y.to(device, dtype=torch.float32)\n",
    "\n",
    "        optimizer.zero_grad()\n",
    "        y_pred = model(x.repeat(1,3,1,1))\n",
    "        ssl_loss = learner(x.repeat(1,3,1,1).cuda())\n",
    "        sup_loss = sup_loss_fn(y_pred, y)\n",
    "        loss = (ssl_loss+sup_loss)/2\n",
    "        loss.backward()\n",
    "        \n",
    "        score = metric_fn(y_pred, y)\n",
    "        metrics_score = list(map(add, metrics_score, score))\n",
    "        \n",
    "        optimizer.step()\n",
    "        epoch_loss += loss.item()\n",
    "        \n",
    "        sys.stdout.flush()\n",
    "        sys.stdout.write('\\r Step: [%2d/%2d], loss: %.4f - acc: %.4f' % (i, steps, loss.item(), score[1]))\n",
    "    sys.stdout.write('\\r')\n",
    "\n",
    "    epoch_loss = epoch_loss/len(loader)\n",
    "    \n",
    "    epoch_jaccard = metrics_score[0]/len(loader)\n",
    "#     epoch_f1 = metrics_score[1]/len(loader)\n",
    "    epoch_acc = metrics_score[1]/len(loader)\n",
    "    \n",
    "    return epoch_loss, epoch_jaccard, epoch_acc"
   ]
  },
  {
   "cell_type": "code",
   "execution_count": 30,
   "metadata": {},
   "outputs": [],
   "source": [
    "def evaluate(model, loader, loss_fn, metric_fn, device):\n",
    "    epoch_loss = 0.0\n",
    "    metrics_score = [0.0, 0.0, 0.0, 0.0, 0.0]\n",
    "\n",
    "    model.eval()\n",
    "    with torch.no_grad():\n",
    "        for x, y in loader:\n",
    "            x = x.to(device, dtype=torch.float32)\n",
    "            y = y.to(device, dtype=torch.float32)\n",
    "\n",
    "            y_pred = model(x.repeat(1,3,1,1))\n",
    "            loss = sup_loss_fn(y_pred, y)\n",
    "            \n",
    "            score = metric_fn(y_pred, y)\n",
    "            metrics_score = list(map(add, metrics_score, score))\n",
    "            \n",
    "            epoch_loss += loss.item()\n",
    "\n",
    "        epoch_loss = epoch_loss / len(loader)\n",
    "        \n",
    "        epoch_jaccard = metrics_score[0] / len(loader)\n",
    "#         epoch_f1 = metrics_score[1] / len(loader)\n",
    "        epoch_acc = metrics_score[1] / len(loader)\n",
    "    \n",
    "    return epoch_loss, epoch_jaccard, epoch_acc"
   ]
  },
  {
   "cell_type": "code",
   "execution_count": 31,
   "metadata": {},
   "outputs": [],
   "source": [
    "checkpoint_path = 'ssl_unet_r34.pth'\n",
    "epochs = 10\n",
    "batch_size = 8\n",
    "lr = 1e-4\n",
    "learner = learner.cuda()"
   ]
  },
  {
   "cell_type": "code",
   "execution_count": 32,
   "metadata": {},
   "outputs": [
    {
     "name": "stderr",
     "output_type": "stream",
     "text": [
      "/ext3/miniconda3/lib/python3.12/site-packages/torch/optim/lr_scheduler.py:28: UserWarning: The verbose parameter is deprecated. Please use get_last_lr() to access the learning rate.\n",
      "  warnings.warn(\"The verbose parameter is deprecated. Please use get_last_lr() \"\n"
     ]
    }
   ],
   "source": [
    "model = model.to(device)\n",
    "\n",
    "optimizer = torch.optim.Adam(model.parameters(), lr=lr)\n",
    "scheduler = torch.optim.lr_scheduler.ReduceLROnPlateau(optimizer, 'min', patience=5, verbose=True)\n",
    "sup_loss_fn = DiceBCELoss()\n",
    "# metric_fn = calculate_metrics()\n",
    "\n",
    "\"\"\" Training the model \"\"\"\n",
    "best_valid_loss = float(\"inf\")"
   ]
  },
  {
   "cell_type": "code",
   "execution_count": 33,
   "metadata": {},
   "outputs": [],
   "source": [
    "torch.cuda.empty_cache()"
   ]
  },
  {
   "cell_type": "code",
   "execution_count": 34,
   "metadata": {},
   "outputs": [],
   "source": [
    "def epoch_time(start_time, end_time):\n",
    "    elapsed_time = end_time - start_time\n",
    "    elapsed_mins = int(elapsed_time / 60)\n",
    "    elapsed_secs = int(elapsed_time - (elapsed_mins * 60))\n",
    "    return elapsed_mins, elapsed_secs"
   ]
  },
  {
   "cell_type": "code",
   "execution_count": 35,
   "metadata": {},
   "outputs": [],
   "source": [
    "def fit (model, train_dl, valid_dl, optimizer, epochs, loss_fn, metric_fn, checkpoint_path,learner,early_stopping=5):\n",
    "    \"\"\" fiting model to dataloaders, saving best weights and showing results \"\"\"\n",
    "    losses, val_losses, accs, val_accs = [], [], [], []\n",
    "    jaccards, val_jaccards = [], []\n",
    "    best_val_loss = float(\"inf\")\n",
    "    \n",
    "    since = time.time()\n",
    "    for epoch in range (epochs):\n",
    "        ts = time.time()\n",
    "        \n",
    "        loss, jaccard, acc = train(model, train_dl, optimizer, loss_fn, metric_fn, device,learner)\n",
    "        val_loss, val_jaccard, val_acc = evaluate(model, valid_dl, loss_fn, metric_fn, device)\n",
    "\n",
    "        \n",
    "        losses.append(loss)\n",
    "        accs.append(acc)\n",
    "        jaccards.append(jaccard)\n",
    "        \n",
    "        val_losses.append(val_loss)\n",
    "        val_accs.append(val_acc)\n",
    "        val_jaccards.append(val_jaccard)\n",
    "        \n",
    "        te = time.time()\n",
    "        \n",
    "        if val_loss < best_val_loss:\n",
    "            data_str = f\"===> Valid loss improved from {best_val_loss:2.4f} to {val_loss:2.4f}. Saving checkpoint: {checkpoint_path}\"\n",
    "            print(data_str)\n",
    "            best_val_loss = val_loss\n",
    "            torch.save(model.state_dict(), checkpoint_path)\n",
    "            counter = 1\n",
    "        else:\n",
    "            counter +=1\n",
    "        \n",
    "\n",
    "        epoch_mins, epoch_secs = epoch_time(ts, te)\n",
    "        \n",
    "        print ('Epoch [{}/{}], loss: {:.4f} - jaccard: {:.4f} - acc: {:.4f} - val_loss: {:.4f} - val_jaccard: {:.4f} - val_acc: {:.4f}'.format (epoch + 1, epochs, loss, jaccard, acc, val_loss, val_jaccard, val_acc))\n",
    "        print(f'Time: {epoch_mins}m {epoch_secs}s')\n",
    "        if counter > early_stopping:\n",
    "            break\n",
    "        \n",
    "    period = time.time() - since\n",
    "    print('Training complete in {:.0f}m {:.0f}s'.format(period // 60, period % 60))\n",
    "\n",
    "    return dict(loss = losses, val_loss = val_losses, acc = accs, val_acc = val_accs, jaccard = jaccards, val_jaccard = val_jaccards)"
   ]
  },
  {
   "cell_type": "code",
   "execution_count": 36,
   "metadata": {},
   "outputs": [
    {
     "name": "stdout",
     "output_type": "stream",
     "text": [
      "===> Valid loss improved from inf to 0.6677. Saving checkpoint: ssl_unet_r34.pth\n",
      "Epoch [1/10], loss: 5.8895 - jaccard: 0.7529 - acc: 0.9207 - val_loss: 0.6677 - val_jaccard: 0.8232 - val_acc: 0.9484\n",
      "Time: 2m 7s\n",
      "===> Valid loss improved from 0.6677 to 0.4494. Saving checkpoint: ssl_unet_r34.pth\n",
      "Epoch [2/10], loss: 5.7168 - jaccard: 0.9045 - acc: 0.9747 - val_loss: 0.4494 - val_jaccard: 0.8693 - val_acc: 0.9639\n",
      "Time: 1m 30s\n",
      "===> Valid loss improved from 0.4494 to 0.3756. Saving checkpoint: ssl_unet_r34.pth\n",
      "Epoch [3/10], loss: 5.6706 - jaccard: 0.9181 - acc: 0.9786 - val_loss: 0.3756 - val_jaccard: 0.8629 - val_acc: 0.9638\n",
      "Time: 1m 30s\n",
      "===> Valid loss improved from 0.3756 to 0.3099. Saving checkpoint: ssl_unet_r34.pth\n",
      "Epoch [4/10], loss: 5.6418 - jaccard: 0.9275 - acc: 0.9811 - val_loss: 0.3099 - val_jaccard: 0.8793 - val_acc: 0.9685\n",
      "Time: 1m 30s\n",
      "===> Valid loss improved from 0.3099 to 0.2665. Saving checkpoint: ssl_unet_r34.pth\n",
      "Epoch [5/10], loss: 5.6225 - jaccard: 0.9324 - acc: 0.9824 - val_loss: 0.2665 - val_jaccard: 0.8939 - val_acc: 0.9725\n",
      "Time: 1m 30s\n",
      "===> Valid loss improved from 0.2665 to 0.2504. Saving checkpoint: ssl_unet_r34.pth\n",
      "Epoch [6/10], loss: 5.6096 - jaccard: 0.9336 - acc: 0.9828 - val_loss: 0.2504 - val_jaccard: 0.8819 - val_acc: 0.9691\n",
      "Time: 1m 30s\n",
      "===> Valid loss improved from 0.2504 to 0.2483. Saving checkpoint: ssl_unet_r34.pth\n",
      "Epoch [7/10], loss: 5.5986 - jaccard: 0.9375 - acc: 0.9838 - val_loss: 0.2483 - val_jaccard: 0.8503 - val_acc: 0.9613\n",
      "Time: 1m 30s\n",
      "===> Valid loss improved from 0.2483 to 0.1957. Saving checkpoint: ssl_unet_r34.pth\n",
      "Epoch [8/10], loss: 5.5884 - jaccard: 0.9431 - acc: 0.9853 - val_loss: 0.1957 - val_jaccard: 0.8946 - val_acc: 0.9728\n",
      "Time: 1m 29s\n",
      "Epoch [9/10], loss: 5.5839 - jaccard: 0.9417 - acc: 0.9849 - val_loss: 0.2411 - val_jaccard: 0.8666 - val_acc: 0.9624\n",
      "Time: 1m 30s\n",
      "===> Valid loss improved from 0.1957 to 0.1809. Saving checkpoint: ssl_unet_r34.pth\n",
      "Epoch [10/10], loss: 5.5787 - jaccard: 0.9434 - acc: 0.9854 - val_loss: 0.1809 - val_jaccard: 0.9023 - val_acc: 0.9737\n",
      "Time: 1m 30s\n",
      "Training complete in 15m 41s\n"
     ]
    }
   ],
   "source": [
    "res = fit(model, train_dl, valid_dl, optimizer, epochs, loss_fn, calculate_metrics, checkpoint_path,learner)"
   ]
  },
  {
   "cell_type": "code",
   "execution_count": 37,
   "metadata": {},
   "outputs": [],
   "source": [
    "def plot_acc_loss (loss, val_loss, acc, val_acc):\n",
    "    \"\"\" plot training and validation loss and accuracy \"\"\"\n",
    "    plt.figure (figsize = (12, 4))\n",
    "    plt.subplot (1, 2, 1)\n",
    "    plt.plot (range (len (loss)), loss, 'b-', label = 'Training')\n",
    "    plt.plot (range (len (loss)), val_loss, 'bo-', label = 'Validation')\n",
    "    plt.xlabel ('Epochs')\n",
    "    plt.ylabel ('Loss')\n",
    "    plt.title ('Loss')\n",
    "    plt.legend ()\n",
    "\n",
    "    plt.subplot (1, 2, 2)\n",
    "    plt.plot (range (len (acc)), acc, 'b-', label = 'Training')\n",
    "    plt.plot (range (len (acc)), val_acc, 'bo-', label = 'Validation')\n",
    "    plt.xlabel ('Epochs')\n",
    "    plt.ylabel ('accuracy')\n",
    "    plt.title ('Accuracy')\n",
    "    plt.legend ()\n",
    "\n",
    "    plt.show ()"
   ]
  },
  {
   "cell_type": "code",
   "execution_count": 38,
   "metadata": {},
   "outputs": [
    {
     "data": {
      "image/png": "[encoded data removed]",
      "text/plain": [
       "<Figure size 1200x400 with 2 Axes>"
      ]
     },
     "metadata": {},
     "output_type": "display_data"
    }
   ],
   "source": [
    "loss, val_loss = res['loss'], res['val_loss']\n",
    "acc, val_acc = res['acc'], res['val_acc']\n",
    "plot_acc_loss (loss, val_loss, acc, val_acc)"
   ]
  },
  {
   "cell_type": "markdown",
   "metadata": {},
   "source": [
    "# test"
   ]
  },
  {
   "cell_type": "code",
   "execution_count": 39,
   "metadata": {},
   "outputs": [],
   "source": [
    "test_dl = DataLoader(Mont_ds, batch_size = 8, shuffle = True)"
   ]
  },
  {
   "cell_type": "code",
   "execution_count": 40,
   "metadata": {},
   "outputs": [
    {
     "data": {
      "text/plain": [
       "'ssl_unet_r34.pth'"
      ]
     },
     "execution_count": 40,
     "metadata": {},
     "output_type": "execute_result"
    }
   ],
   "source": [
    "checkpoint_path"
   ]
  },
  {
   "cell_type": "code",
   "execution_count": 41,
   "metadata": {},
   "outputs": [
    {
     "data": {
      "text/plain": [
       "<All keys matched successfully>"
      ]
     },
     "execution_count": 41,
     "metadata": {},
     "output_type": "execute_result"
    }
   ],
   "source": [
    "model.load_state_dict(torch.load(checkpoint_path))"
   ]
  },
  {
   "cell_type": "code",
   "execution_count": 42,
   "metadata": {},
   "outputs": [],
   "source": [
    "model = model.to(device)"
   ]
  },
  {
   "cell_type": "code",
   "execution_count": 43,
   "metadata": {},
   "outputs": [],
   "source": [
    "_, jcc, acc = evaluate(model, test_dl, loss_fn, calculate_metrics, device)"
   ]
  },
  {
   "cell_type": "code",
   "execution_count": 44,
   "metadata": {
    "scrolled": true
   },
   "outputs": [
    {
     "data": {
      "text/plain": [
       "0.9129830366767189"
      ]
     },
     "execution_count": 44,
     "metadata": {},
     "output_type": "execute_result"
    }
   ],
   "source": [
    "jcc"
   ]
  },
  {
   "cell_type": "code",
   "execution_count": 45,
   "metadata": {},
   "outputs": [
    {
     "data": {
      "text/plain": [
       "0.9769204457600912"
      ]
     },
     "execution_count": 45,
     "metadata": {},
     "output_type": "execute_result"
    }
   ],
   "source": [
    "acc"
   ]
  },
  {
   "cell_type": "code",
   "execution_count": null,
   "metadata": {},
   "outputs": [],
   "source": []
  }
 ],
 "metadata": {
  "kaggle": {
   "accelerator": "gpu",
   "dataSources": [
    {
     "datasetId": 108201,
     "sourceId": 258315,
     "sourceType": "datasetVersion"
    }
   ],
   "dockerImageVersionId": 30138,
   "isGpuEnabled": true,
   "isInternetEnabled": true,
   "language": "python",
   "sourceType": "notebook"
  },
  "kernelspec": {
   "display_name": "ps_env",
   "language": "python",
   "name": "ps_env"
  },
  "language_info": {
   "codemirror_mode": {
    "name": "ipython",
    "version": 3
   },
   "file_extension": ".py",
   "mimetype": "text/x-python",
   "name": "python",
   "nbconvert_exporter": "python",
   "pygments_lexer": "ipython3",
   "version": "3.12.4"
  }
 },
 "nbformat": 4,
 "nbformat_minor": 4
}
